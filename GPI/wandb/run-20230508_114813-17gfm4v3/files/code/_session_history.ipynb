{
 "cells": [
  {
   "cell_type": "code",
   "execution_count": 1,
   "id": "2e525745",
   "metadata": {},
   "outputs": [],
   "source": [
    "import mo_gymnasium as mo_gym\n",
    "import numpy as np\n",
    "import pandas as pd\n",
    "from matplotlib import pyplot as plt\n",
    "from morl_baselines.multi_policy.gpi_pd.gpi_pd_continuous_action import GPIPDContinuousAction\n",
    "\n",
    "\"\"\"\n",
    "Helper function to plot pf\n",
    "\"\"\"\n",
    "# TODO: add no objectives as parameter (later)\n",
    "def plot_pf(file):\n",
    "    columns = [\"objective_1\", \"objective_2\"]\n",
    "    df = pd.read_csv(file, usecols=columns)\n",
    "\n",
    "    plt.plot(df.objective_1, df.objective_2, 'o')\n",
    "    plt.xlabel('Cost due to excess water level wrt flooding threshold upstream')\n",
    "    plt.ylabel('Deficit in water supply wrt demand')\n",
    "    plt.show()"
   ]
  },
  {
   "cell_type": "code",
   "execution_count": 2,
   "id": "a27d98de",
   "metadata": {},
   "outputs": [],
   "source": [
    "plot_pf('./2obj_norm_lessvariance.csv')"
   ]
  },
  {
   "cell_type": "code",
   "execution_count": 3,
   "id": "5b72190c",
   "metadata": {},
   "outputs": [],
   "source": [
    "plot_pf('./2obj_norm_moreInitExpl.csv')"
   ]
  },
  {
   "cell_type": "code",
   "execution_count": 4,
   "id": "6056d273",
   "metadata": {},
   "outputs": [
    {
     "data": {
      "text/html": [
       "wandb version 0.15.2 is available!  To upgrade, please run:\n",
       " $ pip install wandb --upgrade"
      ],
      "text/plain": [
       "<IPython.core.display.HTML object>"
      ]
     },
     "metadata": {},
     "output_type": "display_data"
    },
    {
     "data": {
      "text/html": [
       "Tracking run with wandb version 0.14.0"
      ],
      "text/plain": [
       "<IPython.core.display.HTML object>"
      ]
     },
     "metadata": {},
     "output_type": "display_data"
    },
    {
     "data": {
      "text/html": [
       "Run data is saved locally in <code>c:\\Users\\liamm\\water-resource-management\\GPI\\wandb\\run-20230508_114813-17gfm4v3</code>"
      ],
      "text/plain": [
       "<IPython.core.display.HTML object>"
      ]
     },
     "metadata": {},
     "output_type": "display_data"
    },
    {
     "data": {
      "text/html": [
       "Syncing run <strong><a href='https://wandb.ai/vub-ai/MORL-Baselines/runs/17gfm4v3' target=\"_blank\">water-reservoir-v0__gpi-ls_2_obj_lowerstdev__None__1683539290</a></strong> to <a href='https://wandb.ai/vub-ai/MORL-Baselines' target=\"_blank\">Weights & Biases</a> (<a href='https://wandb.me/run' target=\"_blank\">docs</a>)<br/>"
      ],
      "text/plain": [
       "<IPython.core.display.HTML object>"
      ]
     },
     "metadata": {},
     "output_type": "display_data"
    },
    {
     "data": {
      "text/html": [
       " View project at <a href='https://wandb.ai/vub-ai/MORL-Baselines' target=\"_blank\">https://wandb.ai/vub-ai/MORL-Baselines</a>"
      ],
      "text/plain": [
       "<IPython.core.display.HTML object>"
      ]
     },
     "metadata": {},
     "output_type": "display_data"
    },
    {
     "data": {
      "text/html": [
       " View run at <a href='https://wandb.ai/vub-ai/MORL-Baselines/runs/17gfm4v3' target=\"_blank\">https://wandb.ai/vub-ai/MORL-Baselines/runs/17gfm4v3</a>"
      ],
      "text/plain": [
       "<IPython.core.display.HTML object>"
      ]
     },
     "metadata": {},
     "output_type": "display_data"
    }
   ],
   "source": [
    "env = mo_gym.make('water-reservoir-v0', normalized_action=False, nO=2, penalize=True, time_limit=100)\n",
    "\n",
    "GPIAgent = GPIPDContinuousAction(env=env, per=True, dyna=False, experiment_name='gpi-ls_2_obj_lowerstdev', learning_starts=1000)\n",
    "\n",
    "GPIAgent.train(200000, env, ref_point=np.array([0,0], dtype=np.float32), timesteps_per_iter=10000, eval_freq=1000, num_eval_episodes_for_front=5)"
   ]
  },
  {
   "cell_type": "code",
   "execution_count": 5,
   "id": "e882eba0",
   "metadata": {},
   "outputs": [],
   "source": [
    "env = mo_gym.make('water-reservoir-v0', normalized_action=False, nO=2, penalize=True, time_limit=100)\n",
    "\n",
    "GPIAgent = GPIPDContinuousAction(env=env, per=True, dyna=False, experiment_name='gpi-ls_2_obj_lowerstdev', learning_starts=4000)\n",
    "\n",
    "GPIAgent.train(200000, env, ref_point=np.array([0,0], dtype=np.float32), timesteps_per_iter=10000, eval_freq=1000, num_eval_episodes_for_front=5)"
   ]
  }
 ],
 "metadata": {
  "kernelspec": {
   "display_name": "Python 3",
   "language": "python",
   "name": "python3"
  },
  "language_info": {
   "codemirror_mode": {
    "name": "ipython",
    "version": 3
   },
   "file_extension": ".py",
   "mimetype": "text/x-python",
   "name": "python",
   "nbconvert_exporter": "python",
   "pygments_lexer": "ipython3",
   "version": "3.8.8"
  }
 },
 "nbformat": 4,
 "nbformat_minor": 5
}
